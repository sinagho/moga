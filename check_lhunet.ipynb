{
 "cells": [
  {
   "cell_type": "code",
   "execution_count": 1,
   "metadata": {},
   "outputs": [],
   "source": [
    "import numpy as np\n",
    "import torch\n",
    "import torch.nn as nn\n",
    "from matplotlib import pyplot as plt\n",
    "from torchinfo import summary"
   ]
  },
  {
   "cell_type": "code",
   "execution_count": 2,
   "metadata": {},
   "outputs": [],
   "source": [
    "from lhunet import LHUNet"
   ]
  },
  {
   "cell_type": "code",
   "execution_count": 3,
   "metadata": {},
   "outputs": [],
   "source": [
    "crop_size = (16, 160, 160)\n",
    "input_channels = 3\n",
    "num_classes = 4\n",
    "deep_supervision = False\n",
    "\n",
    "\n",
    "network = LHUNet(\n",
    "    spatial_shapes=crop_size,\n",
    "    in_channels=input_channels,\n",
    "    out_channels=num_classes,\n",
    "    do_ds=deep_supervision,\n",
    "    # encoder params\n",
    "    cnn_kernel_sizes=[3, 3],\n",
    "    cnn_features=[8, 16],\n",
    "    cnn_strides=[[1, 2, 2], [1, 2, 2]],\n",
    "    cnn_maxpools=[True, True],\n",
    "    cnn_dropouts=0.0,\n",
    "    cnn_blocks=\"nn\",  # n= resunet, d= deformconv, b= basicunet,\n",
    "    hyb_kernel_sizes=[3, 3, 3],\n",
    "    hyb_features=[16, 32, 64],\n",
    "    hyb_strides=[[1, 2, 2], 2, 2],\n",
    "    hyb_maxpools=[True, True, True],\n",
    "    hyb_cnn_dropouts=0.0,\n",
    "    hyb_tf_proj_sizes=[64, 32, 0],\n",
    "    hyb_tf_repeats=[1, 1, 1],\n",
    "    hyb_tf_num_heads=[4, 4, 4],\n",
    "    hyb_tf_dropouts=0.1,\n",
    "    hyb_cnn_blocks=\"nnn\",  # n= resunet, d= deformconv, b= basicunet,\n",
    "    hyb_vit_blocks=\"MMM\",  # s= dlka_special_v2, S= dlka_sp_seq, c= dlka_channel_v2, C= dlka_ch_seq,\n",
    "    # hyb_vit_sandwich= False,\n",
    "    hyb_skip_mode=\"cat\",  # \"sum\" or \"cat\",\n",
    "    hyb_arch_mode=\"residual\",  # sequential, residual, parallel, collective,\n",
    "    hyb_res_mode=\"sum\",  # \"sum\" or \"cat\",\n",
    "    # decoder params\n",
    "    dec_hyb_tcv_kernel_sizes=[5, 5, 5],\n",
    "    dec_cnn_tcv_kernel_sizes=[5, 5],\n",
    "    dec_cnn_blocks=None,\n",
    "    dec_tcv_bias=False,\n",
    "    dec_hyb_tcv_bias=False,\n",
    "    dec_hyb_kernel_sizes=None,\n",
    "    dec_hyb_features=None,\n",
    "    dec_hyb_cnn_dropouts=None,\n",
    "    dec_hyb_tf_proj_sizes=None,\n",
    "    dec_hyb_tf_repeats=None,\n",
    "    dec_hyb_tf_num_heads=None,\n",
    "    dec_hyb_tf_dropouts=None,\n",
    "    dec_cnn_kernel_sizes=None,\n",
    "    dec_cnn_features=None,\n",
    "    dec_cnn_dropouts=None,\n",
    "    dec_hyb_cnn_blocks=None,\n",
    "    dec_hyb_vit_blocks=None,\n",
    "    # dec_hyb_vit_sandwich= None,\n",
    "    dec_hyb_skip_mode=None,\n",
    "    dec_hyb_arch_mode=\"collective\",  # sequential, residual, parallel, collective, sequential-lite,\n",
    "    dec_hyb_res_mode=None,\n",
    ")\n",
    "\n",
    "network = network.cuda()"
   ]
  },
  {
   "cell_type": "code",
   "execution_count": 4,
   "metadata": {},
   "outputs": [],
   "source": [
    "crop_size = (64, 128, 128)\n",
    "input_channels = 3\n",
    "num_classes = 4\n",
    "deep_supervision = False\n",
    "\n",
    "\n",
    "network = LHUNet(\n",
    "    spatial_shapes=crop_size,\n",
    "    in_channels=input_channels,\n",
    "    out_channels=num_classes,\n",
    "    do_ds=deep_supervision,\n",
    "    # encoder params\n",
    "    cnn_kernel_sizes=[3, 3],\n",
    "    cnn_features=[8, 16],\n",
    "    cnn_strides=[[1, 2, 2], 2],\n",
    "    cnn_maxpools=[True, True],\n",
    "    cnn_dropouts=0.0,\n",
    "    cnn_blocks=\"nn\",  # n= resunet, d= deformconv, b= basicunet,\n",
    "    hyb_kernel_sizes=[3, 3, 3],\n",
    "    hyb_features=[16, 32, 64],\n",
    "    hyb_strides=[2, 2, 2],\n",
    "    hyb_maxpools=[True, True, True],\n",
    "    hyb_cnn_dropouts=0.0,\n",
    "    hyb_tf_proj_sizes=[64, 32, 0],\n",
    "    hyb_tf_repeats=[1, 1, 1],\n",
    "    hyb_tf_num_heads=[4, 4, 4],\n",
    "    hyb_tf_dropouts=0.1,\n",
    "    hyb_cnn_blocks=\"nnn\",  # n= resunet, d= deformconv, b= basicunet,\n",
    "    hyb_vit_blocks=\"MMM\",  # s= dlka_special_v2, S= dlka_sp_seq, c= dlka_channel_v2, C= dlka_ch_seq,\n",
    "    # hyb_vit_sandwich= False,\n",
    "    hyb_skip_mode=\"cat\",  # \"sum\" or \"cat\",\n",
    "    hyb_arch_mode=\"residual\",  # sequential, residual, parallel, collective,\n",
    "    hyb_res_mode=\"sum\",  # \"sum\" or \"cat\",\n",
    "    # decoder params\n",
    "    dec_hyb_tcv_kernel_sizes=[5, 5, 5],\n",
    "    dec_cnn_tcv_kernel_sizes=[5, 5],\n",
    "    dec_cnn_blocks=None,\n",
    "    dec_tcv_bias=False,\n",
    "    dec_hyb_tcv_bias=False,\n",
    "    dec_hyb_kernel_sizes=None,\n",
    "    dec_hyb_features=None,\n",
    "    dec_hyb_cnn_dropouts=None,\n",
    "    dec_hyb_tf_proj_sizes=None,\n",
    "    dec_hyb_tf_repeats=None,\n",
    "    dec_hyb_tf_num_heads=None,\n",
    "    dec_hyb_tf_dropouts=None,\n",
    "    dec_cnn_kernel_sizes=None,\n",
    "    dec_cnn_features=None,\n",
    "    dec_cnn_dropouts=None,\n",
    "    dec_hyb_cnn_blocks=None,\n",
    "    dec_hyb_vit_blocks=None,\n",
    "    # dec_hyb_vit_sandwich= None,\n",
    "    dec_hyb_skip_mode=None,\n",
    "    dec_hyb_arch_mode=\"collective\",  # sequential, residual, parallel, collective, sequential-lite,\n",
    "    dec_hyb_res_mode=None,\n",
    ")\n",
    "\n",
    "network = network.cuda()"
   ]
  },
  {
   "cell_type": "code",
   "execution_count": 7,
   "metadata": {},
   "outputs": [
    {
     "name": "stdout",
     "output_type": "stream",
     "text": [
      "torch.Size([4, 16, 16, 16, 16])\n",
      "torch.Size([4, 16, 1, 1, 1])\n",
      "torch.Size([4, 16, 16, 16, 16])\n",
      "torch.Size([4, 32, 8, 8, 8])\n",
      "torch.Size([4, 32, 1, 1, 1])\n",
      "torch.Size([4, 32, 8, 8, 8])\n",
      "torch.Size([4, 64, 4, 4, 4])\n",
      "torch.Size([4, 64, 1, 1, 1])\n",
      "torch.Size([4, 64, 4, 4, 4])\n",
      "torch.Size([4, 32, 8, 8, 8])\n",
      "torch.Size([4, 32, 1, 1, 1])\n",
      "torch.Size([4, 32, 8, 8, 8])\n",
      "torch.Size([4, 16, 16, 16, 16])\n",
      "torch.Size([4, 16, 1, 1, 1])\n",
      "torch.Size([4, 16, 16, 16, 16])\n",
      "torch.Size([4, 16, 32, 32, 32])\n",
      "torch.Size([4, 16, 1, 1, 1])\n",
      "torch.Size([4, 16, 32, 32, 32])\n"
     ]
    }
   ],
   "source": [
    "x = torch.randn(4, input_channels, *crop_size).to(\"cuda\")\n",
    "y = network(x)\n",
    "# print(y.shape)"
   ]
  },
  {
   "cell_type": "code",
   "execution_count": 6,
   "metadata": {},
   "outputs": [
    {
     "name": "stdout",
     "output_type": "stream",
     "text": [
      "1212271\n"
     ]
    }
   ],
   "source": [
    "model_parameters = filter(lambda p: p.requires_grad, network.parameters())\n",
    "params = sum([np.prod(p.size()) for p in model_parameters])\n",
    "print(params)"
   ]
  },
  {
   "cell_type": "code",
   "execution_count": null,
   "metadata": {},
   "outputs": [],
   "source": []
  }
 ],
 "metadata": {
  "kernelspec": {
   "display_name": "pytorch",
   "language": "python",
   "name": "python3"
  },
  "language_info": {
   "codemirror_mode": {
    "name": "ipython",
    "version": 3
   },
   "file_extension": ".py",
   "mimetype": "text/x-python",
   "name": "python",
   "nbconvert_exporter": "python",
   "pygments_lexer": "ipython3",
   "version": "3.10.12"
  }
 },
 "nbformat": 4,
 "nbformat_minor": 2
}
